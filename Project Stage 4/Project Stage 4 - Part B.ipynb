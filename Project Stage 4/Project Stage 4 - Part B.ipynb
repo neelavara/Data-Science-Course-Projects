{
 "cells": [
  {
   "cell_type": "code",
   "execution_count": 148,
   "metadata": {},
   "outputs": [],
   "source": [
    "import pandas as pd\n",
    "import csv\n",
    "import re"
   ]
  },
  {
   "cell_type": "code",
   "execution_count": 149,
   "metadata": {},
   "outputs": [],
   "source": [
    "path = \"C:\\Users\\Owner\\Desktop\\Merged.csv\"\n",
    "merged = pd.read_csv(path)"
   ]
  },
  {
   "cell_type": "code",
   "execution_count": 150,
   "metadata": {},
   "outputs": [],
   "source": [
    "allcusinesList = []\n",
    "allpinCode = []\n",
    "takeOutYes = 0\n",
    "takeOutNo = 0\n",
    "\n",
    "#Cusine list\n",
    "for item in merged.Cuisines:\n",
    "    #miniList = item.split(';')\n",
    "    #for one in miniList:\n",
    "    allcusinesList.extend(item.split(';'))\n",
    "allcusinesList = map(str.strip, allcusinesList)\n",
    "allcusinesList = map(str.lower,allcusinesList)\n",
    "\n",
    "#Take out count\n",
    "for val in merged.Take_Out:\n",
    "    if val == 'Yes':\n",
    "        takeOutYes +=1\n",
    "    else:\n",
    "        takeOutNo +=1\n",
    "#Zip Code\n",
    "for pin in merged.Address:\n",
    "    code = pin.partition(\"Ny\")[2]\n",
    "    code = code.split(\"-\")[0]\n",
    "    allpinCode.append(code.strip())"
   ]
  },
  {
   "cell_type": "code",
   "execution_count": 151,
   "metadata": {},
   "outputs": [],
   "source": [
    "count = {}\n",
    "for cusine in allcusinesList:\n",
    "    if cusine in count.keys():\n",
    "        count[cusine] +=1\n",
    "    else:\n",
    "        count[cusine] = 1\n",
    "pinCode = {}\n",
    "for pin in allpinCode:\n",
    "    if pin in pinCode.keys():\n",
    "        pinCode[pin] +=1\n",
    "    else:\n",
    "        pinCode[pin] = 1"
   ]
  },
  {
   "cell_type": "code",
   "execution_count": 152,
   "metadata": {},
   "outputs": [],
   "source": [
    "with open('Cusine Count.csv', 'wb') as csv_file:\n",
    "    writer = csv.writer(csv_file)\n",
    "    writer.writerow(['Type of Cusine','Number of Restaurants that have this Cusine'])\n",
    "    for key, value in count.items():\n",
    "        writer.writerow([key, value])"
   ]
  },
  {
   "cell_type": "code",
   "execution_count": 153,
   "metadata": {},
   "outputs": [],
   "source": [
    "with open('Pin Code.csv', 'wb') as csv_file:\n",
    "    writer = csv.writer(csv_file)\n",
    "    writer.writerow(['Pin Code','Number of Restaurants in that Area'])\n",
    "    for key, value in pinCode.items():\n",
    "        writer.writerow([key, value])"
   ]
  },
  {
   "cell_type": "code",
   "execution_count": 154,
   "metadata": {},
   "outputs": [
    {
     "name": "stdout",
     "output_type": "stream",
     "text": [
      "Take out option available: 551\n"
     ]
    }
   ],
   "source": [
    "print(\"Take out option available: \" + str(takeOutYes))"
   ]
  },
  {
   "cell_type": "code",
   "execution_count": 155,
   "metadata": {},
   "outputs": [
    {
     "name": "stdout",
     "output_type": "stream",
     "text": [
      "Take out option not available: 235\n"
     ]
    }
   ],
   "source": [
    "print(\"Take out option not available: \" + str(takeOutNo))"
   ]
  },
  {
   "cell_type": "code",
   "execution_count": 182,
   "metadata": {},
   "outputs": [],
   "source": [
    "#res = merged.groupby(['Name'])\n",
    "#res = merged.groupby('Shake Shake').count()\n",
    "a = merged['Name'].value_counts(ascending=False)"
   ]
  },
  {
   "cell_type": "code",
   "execution_count": 187,
   "metadata": {},
   "outputs": [],
   "source": [
    "a.to_csv('chain.csv')"
   ]
  },
  {
   "cell_type": "code",
   "execution_count": null,
   "metadata": {},
   "outputs": [],
   "source": []
  }
 ],
 "metadata": {
  "kernelspec": {
   "display_name": "Python 2",
   "language": "python",
   "name": "python2"
  },
  "language_info": {
   "codemirror_mode": {
    "name": "ipython",
    "version": 2
   },
   "file_extension": ".py",
   "mimetype": "text/x-python",
   "name": "python",
   "nbconvert_exporter": "python",
   "pygments_lexer": "ipython2",
   "version": "2.7.14"
  }
 },
 "nbformat": 4,
 "nbformat_minor": 2
}
